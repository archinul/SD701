{
 "cells": [
  {
   "cell_type": "markdown",
   "metadata": {},
   "source": [
    "# Cover Type Prediction of Forests\n",
    "### Use cartographic variables to classify forest categories.\n",
    "\n",
    "We're trying to predict the forest cover type based base on a training set of about 15k rows. **In this Notebook, no external data and daa leakage techniques we'll be used. THE TRAINING SET IS ALL WE NEED.**"
   ]
  },
  {
   "cell_type": "code",
   "execution_count": 1,
   "metadata": {},
   "outputs": [],
   "source": [
    "import numpy as np\n",
    "import pandas as pd\n",
    "import matplotlib.pyplot as plt\n",
    "from sklearn.model_selection import train_test_split\n",
    "from sklearn import preprocessing\n",
    "from sklearn.model_selection import GridSearchCV\n",
    "from sklearn.ensemble import ExtraTreesClassifier\n",
    "%matplotlib inline\n",
    "\n",
    "import seaborn as sns\n",
    "# On indique à Seaborn d'afficher le cadre pour les légendes\n",
    "sns.set()\n",
    "sns.set_context(\"notebook\", rc={\"axes.titlesize\": 18, \"axes.labelsize\": 15})\n",
    "sns.set_color_codes()\n",
    "sns.set_style({'legend.frameon': True})\n",
    "\n",
    "work_dir = \"C:/Users/Mauva/Documents/Work/SD701/Kaggle/\""
   ]
  },
  {
   "cell_type": "markdown",
   "metadata": {},
   "source": [
    "After trying several algorithm without any tuning and feature engineering, we get a pretty good score with the ExtraTreesClassifier on train and cv data (splitted 70/30):\n",
    "- train accuracy: **1**\n",
    "- cv accuracy: **0.82407**\n",
    "\n",
    "Let's try this on Kaggle:\n",
    "- kaggle score: **0.58199**\n",
    "\n",
    "It's not very satisfying, it seems that there is high variance in our model. What we can do now is to tune the hyperparameters of our model to reduce this variance."
   ]
  },
  {
   "cell_type": "markdown",
   "metadata": {},
   "source": [
    "**Grid search:**\n",
    "\n",
    "*grid['n_estimators'] = [250,500,750,1000,1250,1500]*<br/>\n",
    "*grid['max_features'] = [20,30,40]*<br/>\n",
    "*grid['max_depth'] = [None]*<br/>\n",
    "\n",
    "*gs = GridSearchCV(clf, param_grid=grid,cv=5)*\n",
    "\n",
    "\n",
    "The grid search give us the below parameters:\n",
    "- max_features = 40\n",
    "- n_estimatores = 500\n",
    "\n",
    "\n",
    "**Scores:**\n",
    "- train accuracy: **1**\n",
    "- cv accuracy: **0.87169**\n",
    "- kaggle score: **0.66516**"
   ]
  },
  {
   "cell_type": "markdown",
   "metadata": {},
   "source": [
    "With an ExtraTreesClassifier we've greatly reduced the variance, let's tackle the biais now by doing some feature engineering."
   ]
  },
  {
   "cell_type": "code",
   "execution_count": 2,
   "metadata": {},
   "outputs": [],
   "source": [
    "def feature_engineering(X):\n",
    "    X_copy = X.copy()\n",
    "    X_copy['Hillshade_mean'] = (\n",
    "        X['Hillshade_9am'] + X['Hillshade_Noon'] + X['Hillshade_3pm']) / 3\n",
    "    X_copy['log_elevation'] = np.log(X['Elevation'])\n",
    "#     X_copy['Elevation_squared'] = X_copy['Elevation']**2\n",
    "    X_copy['Ele_minus_VDtHyd'] = X_copy['Elevation'] - \\\n",
    "        X_copy['Vertical_Distance_To_Hydrology']\n",
    "\n",
    "#     X_copy['Ele_minus_VDtHyd_squared'] = X_copy['Ele_minus_VDtHyd']**2\n",
    "#     X_copy['Ele_plus_VDtHyd'] = X['Elevation'] + \\\n",
    "#         X['Vertical_Distance_To_Hydrology']\n",
    "#     X_copy['Ele_minus_HDtHyd'] = X['Elevation'] - \\\n",
    "#         X['Horizontal_Distance_To_Hydrology']\n",
    "#     X_copy['Ele_plus_HDtHyd'] = X['Elevation'] + \\\n",
    "#         X['Horizontal_Distance_To_Hydrology']\n",
    "#     X_copy['Distance_to_Hydrolody'] = (X_copy['Horizontal_Distance_To_Hydrology']**2+X_copy['Vertical_Distance_To_Hydrology']**2)**0.5\n",
    "    X_copy['Hydro_plus_Fire'] = X_copy['Horizontal_Distance_To_Hydrology'] + \\\n",
    "        X_copy['Horizontal_Distance_To_Fire_Points']\n",
    "    X_copy['Hydro_plus_Fire_squared'] = X_copy['Hydro_plus_Fire']**2\n",
    "    X_copy['Hydro_plus_Fire_cube'] = X_copy['Hydro_plus_Fire']**3\n",
    "    X_copy['Hydro_plus_Fire_4'] = X_copy['Hydro_plus_Fire']**4\n",
    "    X_copy['Hydro_minus_Fire'] = X_copy['Horizontal_Distance_To_Hydrology'] - \\\n",
    "        X_copy['Horizontal_Distance_To_Fire_Points']\n",
    "    X_copy['Hydro_minus_Fire_squared'] = X_copy['Hydro_minus_Fire']**2\n",
    "    X_copy['Hydro_minus_Fire_cube'] = X_copy['Hydro_minus_Fire']**3\n",
    "#     X_copy['Hydro_minus_Fire_4']=X_copy['Hydro_minus_Fire']**4\n",
    "    X_copy['Hydro_plus_Road'] = X_copy['Horizontal_Distance_To_Hydrology'] + \\\n",
    "        X_copy['Horizontal_Distance_To_Roadways']\n",
    "    X_copy['Hydro_plus_Road_squared'] = X_copy['Hydro_plus_Road']**2\n",
    "    X_copy['Hydro_plus_Road_cube'] = X_copy['Hydro_plus_Road']**3\n",
    "#     X_copy['Hydro_plus_Road_4'] = X_copy['Hydro_plus_Road']**4\n",
    "    X_copy['Hydro_minus_Road'] = abs(\n",
    "        X_copy['Horizontal_Distance_To_Hydrology'] - X_copy['Horizontal_Distance_To_Roadways'])\n",
    "    X_copy['Hydro_minus_Road_squared'] = X_copy['Hydro_minus_Road']**2\n",
    "    X_copy['Hydro_minus_Road_cube'] = X_copy['Hydro_minus_Road']**3\n",
    "    X_copy['Hydro_minus_Road_4'] = X_copy['Hydro_minus_Road']**4\n",
    "    X_copy['Fire_plus_Road'] = X_copy['Horizontal_Distance_To_Fire_Points'] + \\\n",
    "        X_copy['Horizontal_Distance_To_Roadways']\n",
    "    X_copy['Fire_plus_Road_squared'] = X_copy['Fire_plus_Road']**2\n",
    "    X_copy['Fire_plus_Road_cube'] = X_copy['Fire_plus_Road']**3\n",
    "    X_copy['Fire_plus_Road_4'] = X_copy['Fire_plus_Road']**4\n",
    "    X_copy['Fire_minus_Road'] = X_copy['Horizontal_Distance_To_Fire_Points'] - \\\n",
    "        X_copy['Horizontal_Distance_To_Roadways']\n",
    "#     X_copy['Fire_minus_Road_squared'] = X_copy['Fire_minus_Road']**2\n",
    "    X_copy['Fire_minus_Road_cube'] = X_copy['Fire_minus_Road']**3\n",
    "#     X_copy['Fire_minus_Road_4'] = X_copy['Fire_minus_Road']**4\n",
    "#     X_copy['Aspect2']=X_copy['Aspect'].map(lambda x: map(x))\n",
    "#     X_copy['S'] = np.where(X_copy[\"Vertical_Distance_To_Hydrology\"] < 0,0,1)\n",
    "    del X_copy['Aspect']\n",
    "    del X_copy['Slope']\n",
    "    del X_copy['Vertical_Distance_To_Hydrology']\n",
    "    del X_copy['Elevation']\n",
    "    X_copy.drop(X_copy.loc[:, 'Soil_Type1':'Soil_Type40'], axis=1)\n",
    "    return X_copy"
   ]
  },
  {
   "cell_type": "code",
   "execution_count": 3,
   "metadata": {},
   "outputs": [],
   "source": [
    "X = pd.read_csv(work_dir + \"train-data.csv\", sep=',', header=0)\n",
    "X.set_index(\"Id\", inplace=True)\n",
    "# X=X[X['Cover_Type']!=4]\n",
    "\n",
    "y = X['Cover_Type']\n",
    "del X['Cover_Type']\n",
    "\n",
    "# The Hillshade_3pm variable contains many zeros, it's seems that there're missing values. We're replacing them by the mean.\n",
    "mean = X['Hillshade_3pm'].mean()\n",
    "X['Hillshade_3pm'].loc[X['Hillshade_3pm'] == 0] = mean\n",
    "\n",
    "X = feature_engineering(X)"
   ]
  },
  {
   "cell_type": "markdown",
   "metadata": {},
   "source": [
    "Now that we have created some new features, let's do some hyperparameters tuning and try this on Kaggle:\n",
    "\n",
    "**Feature Engineering: **\n",
    "- max_features = 20\n",
    "- n_estimatores = 1000\n",
    "- cv accuracy: **0.90343**\n",
    "- kaggle score: **0.74166**\n",
    "\n",
    "It's a pretty good score compared to we had on our first try. Now we're going to look at the confusion matrix on our cross validation data to see how are the predictions in details.\n",
    "\n",
    "**Confusion matrix:**<br/>\n",
    "<pre>\n",
    "[543,  92,   0,   0,  10,   2,  22]\n",
    "[ 68, 525,  13,   0,  46,  13,   8]\n",
    "[  0,   0, 565,  18,   2,  36,   0]\n",
    "[  0,   0,   9, 575,   0,   5,   0]\n",
    "[  0,   8,   5,   0, 643,   4,   0]\n",
    "[  0,   2,  42,  10,   5, 641,   0]\n",
    "[ 16,   2,   0,   0,   0,   0, 606]</pre>\n",
    "\n",
    "It's seems that we're having some difficulties to distinguish class 1 from class 2 (and class 3 to a lesser extent).\n",
    "We need to focus on these 2 classes, to be able to this, we're going to use a One-vs-Rest strategy:\n",
    "- train class 7 vs rest, predict on test set and remove the rows predicted as class 7.\n",
    "- train class 6 vs rest, predict on test set and remove the rows predicted as class 6.\n",
    "- train class 5 vs rest, predict on test set and remove the rows predicted as class 5.\n",
    "- train class 4 vs rest, predict on test set and remove the rows predicted as class 4.\n"
   ]
  },
  {
   "cell_type": "code",
   "execution_count": 4,
   "metadata": {},
   "outputs": [],
   "source": [
    "# clf = ExtraTreesClassifier(random_state=100, n_jobs=4, bootstrap=False)\n",
    "# grid={}\n",
    "# grid['criterion'] = ['gini','entropy']\n",
    "# grid['n_estimators'] = [250,500,750,1000,1250,1500]\n",
    "# grid['max_features'] = [20,30,40]\n",
    "# grid['max_depth']=[None]\n",
    "# gs = GridSearchCV(clf, param_grid=grid,cv=5)\n",
    "gs = ExtraTreesClassifier(random_state=100, n_jobs=4,\n",
    "                          bootstrap=False, n_estimators=1000, max_features=20)\n",
    "\n",
    "\n",
    "def oredered_OvR(X_train, y_train, X_test, grid_search):\n",
    "    y_test = pd.DataFrame(X_test.index, columns=[\"Id\"])\n",
    "    model = gs.fit(X_train, y_train)\n",
    "    df_predictions = pd.DataFrame(gs.predict(X_test), columns=[\"Cover_Type\"])\n",
    "    df_output = pd.concat([y_test, df_predictions], axis=1)\n",
    "#     print(gs.best_estimator_)\n",
    "    return df_output"
   ]
  },
  {
   "cell_type": "code",
   "execution_count": 5,
   "metadata": {},
   "outputs": [],
   "source": [
    "X_test=pd.read_csv(\"C:/Users/Mauva/Documents/Work/SD701/Kaggle/test-data.csv\",sep=',')\n",
    "y_test=X_test['Id']\n",
    "del X_test[\"Id\"]\n",
    "\n",
    "mean = X_test['Hillshade_3pm'].mean()\n",
    "X_test['Hillshade_3pm'].loc[X_test['Hillshade_3pm']==0]=mean\n",
    "X_test=feature_engineering(X_test)\n",
    "\n",
    "X_train=X\n",
    "y_train=y.copy()\n",
    "y_train[y_train!=7]=0\n",
    "result=oredered_OvR(X_train,y_train,X_test,gs)\n",
    "result=result[result['Cover_Type']==7]"
   ]
  },
  {
   "cell_type": "code",
   "execution_count": 6,
   "metadata": {},
   "outputs": [],
   "source": [
    "X_test=X_test.loc[set(X_test.index) - set(result['Id'])]\n",
    "y_train=y[y!=7].copy()\n",
    "X_train=X.loc[y_train.index]\n",
    "y_train[y_train!=6]=0\n",
    "res_temp=oredered_OvR(X_train,y_train,X_test,gs)\n",
    "result=result.append(res_temp[res_temp[\"Cover_Type\"]==6])"
   ]
  },
  {
   "cell_type": "code",
   "execution_count": 7,
   "metadata": {},
   "outputs": [],
   "source": [
    "X_test=X_test.loc[set(X_test.index) - set(result['Id'])]\n",
    "y_train=y.loc[~y.isin([6,7])].copy()\n",
    "X_train=X.loc[y_train.index]\n",
    "y_train[y_train!=5]=0\n",
    "res_temp=oredered_OvR(X_train,y_train,X_test,gs)\n",
    "result=result.append(res_temp[res_temp[\"Cover_Type\"]==5])"
   ]
  },
  {
   "cell_type": "code",
   "execution_count": 8,
   "metadata": {},
   "outputs": [],
   "source": [
    "# There is no row predicted as class 4, so we're now doing this step.\n",
    "\n",
    "# X_test=X_test.loc[set(X_test.index) - set(result['Id'])]\n",
    "# y_train=y.loc[~y.isin([5,6,7])].copy()\n",
    "# X_train=X.loc[y_train.index]\n",
    "# y_train[y_train!=4]=0\n",
    "# res_temp=oredered_OvR(X_train,y_train,X_test,gs)\n",
    "# result=result.append(res_temp[res_temp[\"Cover_Type\"]==4])"
   ]
  },
  {
   "cell_type": "code",
   "execution_count": 9,
   "metadata": {},
   "outputs": [],
   "source": [
    "gs = ExtraTreesClassifier(random_state=100, n_jobs=4, bootstrap=False,n_estimators=1000,max_features=30,\n",
    "                         class_weight= {1:4,2:1,3:20})\n",
    "\n",
    "# clf = ExtraTreesClassifier(random_state=100, n_jobs=4, bootstrap=False, class_weight= {1:4,2:1,3:20})\n",
    "# grid={}\n",
    "# grid['criterion'] = ['gini','entropy']\n",
    "# grid['n_estimators'] = [250,500,750,1000,1250,1500]\n",
    "# grid['max_features'] = [20,30,40]\n",
    "# grid['max_depth']=[None]\n",
    "# gs = GridSearchCV(clf, param_grid=grid,cv=5)\n",
    "\n",
    "X_test=X_test.loc[set(X_test.index) - set(result['Id'])]\n",
    "y_train=y.loc[y.isin([1,2,3])].copy()\n",
    "X_train=X.loc[y_train.index]\n",
    "res_temp=oredered_OvR(X_train,y_train,X_test,gs)\n",
    "result=result.append(res_temp[~res_temp[\"Cover_Type\"].isnull()])"
   ]
  },
  {
   "cell_type": "markdown",
   "metadata": {},
   "source": [
    "At this point it's pretty hard to get a CV score as we're chaining several ExtraTreesClassifiers.\n",
    "\n",
    "Let's try our result on Kaggle:\n",
    "- kaggle score: **0.79950**\n",
    "\n",
    "There's something we can do to improve the score. We can improve the tuning of our last classifier by launching another Grid Search.\n",
    "\n",
    "**Grid search:**<br/>\n",
    "- max_features = 30\n",
    "- n_estimatores = 1000\n",
    "- class_weight= {1:4,2:1,3:20}\n",
    "\n",
    "Let's try on Kaggle:\n",
    "\n",
    "- kaggle score: **0.81800**"
   ]
  },
  {
   "cell_type": "code",
   "execution_count": 10,
   "metadata": {},
   "outputs": [],
   "source": [
    "df_output=result.set_index(\"Id\")\n",
    "df_output=pd.concat([y_test,df_output],axis=1)"
   ]
  },
  {
   "cell_type": "code",
   "execution_count": 11,
   "metadata": {},
   "outputs": [],
   "source": [
    "df_output.to_csv(work_dir+\"export_OvA.csv\",sep=\",\",index=False)"
   ]
  },
  {
   "cell_type": "code",
   "execution_count": 12,
   "metadata": {},
   "outputs": [],
   "source": [
    "stats = [\n",
    "    {'step': 'Model selection', 'CV acc': 0.824074, 'Kaggle score': 0.58199},\n",
    "    {'step':'Hyperparameters tuning', 'CV acc':0.871693, 'Kaggle score':0.66516},\n",
    "    {'step':'Feature engineering', 'CV acc':0.903439, 'Kaggle score':0.74166},\n",
    "    {'step':'One-VS-Rest', 'CV acc':None, 'Kaggle score':0.79950},\n",
    "    {'step':'Weighted classes', 'CV acc':None, 'Kaggle score':0.81800}\n",
    "]"
   ]
  },
  {
   "cell_type": "code",
   "execution_count": 13,
   "metadata": {},
   "outputs": [
    {
     "data": {
      "text/html": [
       "<div>\n",
       "<style>\n",
       "    .dataframe thead tr:only-child th {\n",
       "        text-align: right;\n",
       "    }\n",
       "\n",
       "    .dataframe thead th {\n",
       "        text-align: left;\n",
       "    }\n",
       "\n",
       "    .dataframe tbody tr th {\n",
       "        vertical-align: top;\n",
       "    }\n",
       "</style>\n",
       "<table border=\"1\" class=\"dataframe\">\n",
       "  <thead>\n",
       "    <tr style=\"text-align: right;\">\n",
       "      <th></th>\n",
       "      <th>CV acc</th>\n",
       "      <th>Kaggle score</th>\n",
       "      <th>step</th>\n",
       "    </tr>\n",
       "  </thead>\n",
       "  <tbody>\n",
       "    <tr>\n",
       "      <th>0</th>\n",
       "      <td>0.824074</td>\n",
       "      <td>0.58199</td>\n",
       "      <td>Model selection</td>\n",
       "    </tr>\n",
       "    <tr>\n",
       "      <th>1</th>\n",
       "      <td>0.871693</td>\n",
       "      <td>0.66516</td>\n",
       "      <td>Hyperparameters tuning</td>\n",
       "    </tr>\n",
       "    <tr>\n",
       "      <th>2</th>\n",
       "      <td>0.903439</td>\n",
       "      <td>0.74166</td>\n",
       "      <td>Feature engineering</td>\n",
       "    </tr>\n",
       "    <tr>\n",
       "      <th>3</th>\n",
       "      <td>NaN</td>\n",
       "      <td>0.79950</td>\n",
       "      <td>One-VS-Rest</td>\n",
       "    </tr>\n",
       "    <tr>\n",
       "      <th>4</th>\n",
       "      <td>NaN</td>\n",
       "      <td>0.81800</td>\n",
       "      <td>Weighted classes</td>\n",
       "    </tr>\n",
       "  </tbody>\n",
       "</table>\n",
       "</div>"
      ],
      "text/plain": [
       "     CV acc  Kaggle score                    step\n",
       "0  0.824074       0.58199         Model selection\n",
       "1  0.871693       0.66516  Hyperparameters tuning\n",
       "2  0.903439       0.74166     Feature engineering\n",
       "3       NaN       0.79950             One-VS-Rest\n",
       "4       NaN       0.81800        Weighted classes"
      ]
     },
     "execution_count": 13,
     "metadata": {},
     "output_type": "execute_result"
    }
   ],
   "source": [
    "df_stats=pd.DataFrame(stats)\n",
    "df_stats.head()"
   ]
  },
  {
   "cell_type": "code",
   "execution_count": 14,
   "metadata": {},
   "outputs": [
    {
     "data": {
      "text/plain": [
       "<matplotlib.text.Text at 0x1a4249ee9e8>"
      ]
     },
     "execution_count": 14,
     "metadata": {},
     "output_type": "execute_result"
    },
    {
     "data": {
      "image/png": "[encoded data removed]",
      "text/plain": [
       "<matplotlib.figure.Figure at 0x1a423a30f60>"
      ]
     },
     "metadata": {},
     "output_type": "display_data"
    }
   ],
   "source": [
    "%matplotlib inline\n",
    "plt.figure(figsize=[12, 8])\n",
    "x=np.linspace(1,5,5)\n",
    "plt.plot(x,df_stats[['CV acc','Kaggle score']],markersize=10,marker=\"o\")\n",
    "ticks=plt.xticks(x,df_stats['step'])\n",
    "plt.ylabel(\"accuracy\")\n",
    "plt.xlabel(\"step\")\n",
    "plt.title(\"Score evolution\")"
   ]
  }
 ],
 "metadata": {
  "kernelspec": {
   "display_name": "Python 3",
   "language": "python",
   "name": "python3"
  },
  "language_info": {
   "codemirror_mode": {
    "name": "ipython",
    "version": 3
   },
   "file_extension": ".py",
   "mimetype": "text/x-python",
   "name": "python",
   "nbconvert_exporter": "python",
   "pygments_lexer": "ipython3",
   "version": "3.6.2"
  }
 },
 "nbformat": 4,
 "nbformat_minor": 2
}
